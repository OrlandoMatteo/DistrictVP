{
 "cells": [
  {
   "cell_type": "code",
   "execution_count": null,
   "metadata": {},
   "outputs": [],
   "source": [
    "import rasterio\n",
    "import os\n",
    "import numpy as np\n",
    "from rasterio.plot import show\n",
    "from rasterio.mask import mask\n",
    "from shapely.geometry import box\n",
    "import geopandas as gpd\n",
    "from fiona.crs import from_epsg\n",
    "import os\n",
    "import matplotlib.pyplot as plt\n",
    "%matplotlib inline\n"
   ]
  },
  {
   "cell_type": "code",
   "execution_count": null,
   "metadata": {},
   "outputs": [],
   "source": [
    "\n",
    "data_dir = \"data/raster\"\n",
    "# Input raster \n",
    "fp = os.path.join(os.getcwd(),data_dir, \"DSM_Mosaic.tif\")\n",
    "print (fp)\n",
    "\n",
    "# Output raster\n",
    "out_tif = os.path.join(data_dir, \"Sansa.tif\")"
   ]
  },
  {
   "cell_type": "code",
   "execution_count": null,
   "metadata": {},
   "outputs": [],
   "source": [
    "# Read the data\n",
    "data = rasterio.open(fp)\n",
    "show(data, cmap='terrain')"
   ]
  },
  {
   "cell_type": "code",
   "execution_count": null,
   "metadata": {},
   "outputs": [],
   "source": [
    "geo = gpd.read_file('data/turin_districts/turin_districts.shp')\n",
    "geo=geo[geo.DENOM=='San Salvario']\n",
    "geo"
   ]
  },
  {
   "cell_type": "code",
   "execution_count": null,
   "metadata": {},
   "outputs": [],
   "source": [
    "#Reporject polygon in the correct system\n",
    "print(data.crs.data)\n",
    "geo.crs={'init':'epsg:3003'}\n",
    "geo = geo.to_crs(crs=data.crs.data)\n",
    "print(geo.crs)"
   ]
  },
  {
   "cell_type": "code",
   "execution_count": null,
   "metadata": {},
   "outputs": [],
   "source": [
    "show(data)\n",
    "geo.plot()"
   ]
  },
  {
   "cell_type": "code",
   "execution_count": null,
   "metadata": {},
   "outputs": [],
   "source": [
    "# Clip the raster with Polygon\n",
    "out_img, out_transform = mask(dataset=data, shapes=geo.geometry, crop=True)"
   ]
  },
  {
   "cell_type": "code",
   "execution_count": null,
   "metadata": {},
   "outputs": [],
   "source": [
    "# Copy the metadata\n",
    "out_meta = data.meta.copy()\n",
    "print(out_meta)"
   ]
  },
  {
   "cell_type": "code",
   "execution_count": null,
   "metadata": {},
   "outputs": [],
   "source": [
    "# Parse EPSG code\n",
    "epsg_code = int(data.crs.data['init'][5:])\n",
    "print(epsg_code)"
   ]
  },
  {
   "cell_type": "code",
   "execution_count": null,
   "metadata": {},
   "outputs": [],
   "source": [
    "#Update metadata\n",
    "out_meta.update({\"driver\": \"GTiff\",\n",
    "                 \"height\": out_img.shape[1],\n",
    "                 \"width\": out_img.shape[2],\n",
    "                 \"transform\": out_transform}\n",
    "                         )"
   ]
  },
  {
   "cell_type": "code",
   "execution_count": null,
   "metadata": {},
   "outputs": [],
   "source": [
    "#Save clipped file\n",
    "with rasterio.open(out_tif, \"w\", **out_meta) as dest:\n",
    "        dest.write(out_img)"
   ]
  },
  {
   "cell_type": "code",
   "execution_count": null,
   "metadata": {},
   "outputs": [],
   "source": [
    "# Open the clipped raster file\n",
    "clipped = rasterio.open(out_tif)\n",
    "\n",
    "# Visualize\n",
    "show(clipped, cmap='terrain')"
   ]
  },
  {
   "cell_type": "code",
   "execution_count": null,
   "metadata": {},
   "outputs": [],
   "source": [
    "#Reproject\n",
    "from rasterio.warp import calculate_default_transform, reproject, Resampling\n",
    "out_tif_4326 = os.path.join(data_dir, \"Sansa_4326.tif\")\n",
    "src=clipped\n",
    "dst_crs = 'EPSG:4326'\n",
    "transform, width, height = calculate_default_transform(src.crs, dst_crs, src.width, src.height, *src.bounds)\n",
    "kwargs = src.meta.copy()\n",
    "kwargs.update({\n",
    "    'crs': dst_crs,\n",
    "    'transform': transform,\n",
    "    'width': width,\n",
    "    'height': height\n",
    "})\n",
    "with rasterio.open(out_tif_4326, 'w', **kwargs) as dst:\n",
    "    for i in range(1, src.count + 1):\n",
    "        reproject(\n",
    "            source=rasterio.band(src, i),\n",
    "            destination=rasterio.band(dst, i),\n",
    "            src_transform=src.transform,\n",
    "            src_crs=src.crs,\n",
    "            dst_transform=transform,\n",
    "            dst_crs=dst_crs,\n",
    "            resampling=Resampling.nearest)"
   ]
  },
  {
   "cell_type": "code",
   "execution_count": null,
   "metadata": {},
   "outputs": [],
   "source": [
    "#f to calculate the gradient of the raster image\n",
    "def slope_gradient(z):\n",
    "    \"\"\"\n",
    "    Calculate absolute slope gradient elevation array.\n",
    "    \"\"\"\n",
    "    x, y = np.gradient(z)  \n",
    "    slope = np.sqrt(x*x + y*y)\n",
    "    return slope\n"
   ]
  },
  {
   "cell_type": "code",
   "execution_count": null,
   "metadata": {},
   "outputs": [],
   "source": [
    "a=slope_gradient(clipped.read(1))\n",
    "plt.imshow(a, vmin=0.0, vmax=1.0, cmap='pink')"
   ]
  },
  {
   "cell_type": "code",
   "execution_count": null,
   "metadata": {},
   "outputs": [],
   "source": [
    "def aspect(z):\n",
    "    \"\"\"Calculate aspect from DEM.\"\"\"\n",
    "    x, y = np.gradient(z)\n",
    "    return np.arctan2(-x, y)"
   ]
  },
  {
   "cell_type": "code",
   "execution_count": null,
   "metadata": {},
   "outputs": [],
   "source": [
    "a=aspect(clipped.read(1))\n",
    "plt.imshow(a, vmin=0.0, vmax=1.0, cmap='pink')"
   ]
  },
  {
   "cell_type": "code",
   "execution_count": null,
   "metadata": {},
   "outputs": [],
   "source": [
    "#processing\n",
    "import gdal"
   ]
  },
  {
   "cell_type": "code",
   "execution_count": null,
   "metadata": {},
   "outputs": [],
   "source": [
    "gdal.DEMProcessing('data/raster/slope.tif', out_tif, 'slope')\n",
    "slope=rasterio.open('data/raster/slope.tif')\n",
    "show(slope)"
   ]
  },
  {
   "cell_type": "code",
   "execution_count": null,
   "metadata": {},
   "outputs": [],
   "source": [
    "gdal.DEMProcessing('data/raster/aspect.tif', out_tif, 'aspect')\n",
    "aspect=rasterio.open('data/raster/aspect.tif')\n",
    "show(aspect)"
   ]
  },
  {
   "cell_type": "code",
   "execution_count": null,
   "metadata": {},
   "outputs": [],
   "source": [
    "suitable_slope=(slope.read(1)>15) & (slope.read(1)<36)\n",
    "suitable_aspect=(aspect.read(1)>240) & (aspect.read(1)<300)\n",
    "suitable_area=suitable_slope & suitable_aspect\n",
    "show(suitable_area)"
   ]
  },
  {
   "cell_type": "code",
   "execution_count": null,
   "metadata": {},
   "outputs": [],
   "source": [
    "suitable_area=suitable_area.astype(int)\n"
   ]
  },
  {
   "cell_type": "code",
   "execution_count": null,
   "metadata": {},
   "outputs": [],
   "source": [
    "mask = suitable_area != 0\n",
    "results = (\n",
    "        {'properties': {'raster_val': v}, 'geometry': s}\n",
    "        for i, (s, v) \n",
    "        in enumerate(\n",
    "            rasterio.features.shapes(suitable_area.astype('int16'),transform=clipped.transform, mask=mask)))\n"
   ]
  },
  {
   "cell_type": "code",
   "execution_count": null,
   "metadata": {},
   "outputs": [],
   "source": [
    "results"
   ]
  },
  {
   "cell_type": "code",
   "execution_count": null,
   "metadata": {},
   "outputs": [],
   "source": [
    "\n",
    "geoms = list(results)"
   ]
  },
  {
   "cell_type": "code",
   "execution_count": null,
   "metadata": {
    "collapsed": true,
    "jupyter": {
     "outputs_hidden": true
    }
   },
   "outputs": [],
   "source": [
    "import geopandas as gpd\n",
    "suitarea  = gpd.GeoDataFrame.from_features(geoms)"
   ]
  },
  {
   "cell_type": "code",
   "execution_count": null,
   "metadata": {},
   "outputs": [],
   "source": [
    "suitarea.crs=clipped.crs"
   ]
  },
  {
   "cell_type": "code",
   "execution_count": null,
   "metadata": {},
   "outputs": [],
   "source": [
    "suitarea.crs"
   ]
  },
  {
   "cell_type": "code",
   "execution_count": null,
   "metadata": {},
   "outputs": [],
   "source": [
    "suitarea=suitarea[suitarea.raster_val!=0]\n",
    "suitarea.to_crs(epsg='3003')"
   ]
  },
  {
   "cell_type": "code",
   "execution_count": null,
   "metadata": {},
   "outputs": [],
   "source": [
    "suitarea.plot()"
   ]
  },
  {
   "cell_type": "code",
   "execution_count": null,
   "metadata": {},
   "outputs": [],
   "source": [
    "from rasterstats import gen_zonal_stats,zonal_stats"
   ]
  },
  {
   "cell_type": "code",
   "execution_count": null,
   "metadata": {},
   "outputs": [],
   "source": [
    "# Read the raster values\n",
    "array = slope.read(1)\n",
    "\n",
    "# Get the affine\n",
    "affine = clipped.transform"
   ]
  },
  {
   "cell_type": "code",
   "execution_count": null,
   "metadata": {},
   "outputs": [],
   "source": [
    "#slp=zonal_stats(suitarea, array, affine=affine, stats=['mean', 'count'],geojson_out=True)\n",
    "\n",
    "#rasterValue=aspect.read(1)\n",
    "#asp=zonal_stats(suitarea, rasterValue, affine=affine, stats=['mean', 'count'],geojson_out=True)"
   ]
  },
  {
   "cell_type": "code",
   "execution_count": null,
   "metadata": {},
   "outputs": [],
   "source": [
    "#suitable_area=gpd.GeoDataFrame.from_features(slp)\n",
    "#suitable_area_aspect=gpd.GeoDataFrame.from_features(asp)"
   ]
  },
  {
   "cell_type": "code",
   "execution_count": null,
   "metadata": {},
   "outputs": [],
   "source": [
    "#suitable_area.crs={'init':'epsg:3003'}\n",
    "#suitable_area.to_crs(epsg='4326')\n",
    "#suitable_area_aspect.crs={'init':'epsg:3003'}\n",
    "#suitable_area_aspect.to_crs(epsg='4326')"
   ]
  },
  {
   "cell_type": "code",
   "execution_count": null,
   "metadata": {},
   "outputs": [],
   "source": [
    "suitable_area['Area_real']=suitable_area['count']*(0.5*0.5)/np.cos(np.radians(suitable_area['mean']))\n",
    "suitable_area['Aspect']=suitable_area_aspect['mean']"
   ]
  },
  {
   "cell_type": "code",
   "execution_count": null,
   "metadata": {},
   "outputs": [],
   "source": [
    "#suitable_area=suitable_area[suitable_area['Area_real']>20]"
   ]
  },
  {
   "cell_type": "code",
   "execution_count": null,
   "metadata": {},
   "outputs": [],
   "source": [
    "#suitable_area.to_file('data/suit_sansa.shp')"
   ]
  },
  {
   "cell_type": "code",
   "execution_count": null,
   "metadata": {},
   "outputs": [],
   "source": [
    "suitable_area=gpd.read_file('data/suit_sansa.shp')"
   ]
  },
  {
   "cell_type": "code",
   "execution_count": null,
   "metadata": {},
   "outputs": [],
   "source": [
    "#filter\n",
    "\n",
    "suitable_area=suitable_area[suitable_area['Area_real']>20]"
   ]
  },
  {
   "cell_type": "code",
   "execution_count": null,
   "metadata": {},
   "outputs": [],
   "source": [
    "print(type(suitable_area))\n",
    "print(suitable_area)"
   ]
  },
  {
   "cell_type": "code",
   "execution_count": null,
   "metadata": {},
   "outputs": [],
   "source": [
    "suitable_area.crs"
   ]
  },
  {
   "cell_type": "code",
   "execution_count": null,
   "metadata": {},
   "outputs": [],
   "source": [
    "from shapely.geometry import Polygon\n",
    "import shapely"
   ]
  },
  {
   "cell_type": "code",
   "execution_count": null,
   "metadata": {},
   "outputs": [],
   "source": [
    "suitable_area.iloc[0]"
   ]
  },
  {
   "cell_type": "code",
   "execution_count": null,
   "metadata": {},
   "outputs": [],
   "source": [
    "#pol=Polygon([(1396106,4990688), (1396106, 4990695.7), (1396107, 4990695.7), (1396107, 4990688)])\n",
    "roof=suitable_area.iloc[0]['geometry']\n",
    "roofCenter=roof.centroid\n",
    "rotatedRoof=shapely.affinity.rotate(roof,suitable_area.iloc[0]['Aspect'],origin=roofCenter)\n",
    "_boundingBox=rotatedRoof.envelope\n",
    "boundingBox=shapely.affinity.rotate(_boundingBox,360-suitable_area.iloc[0]['Aspect'],origin=roofCenter)\n",
    "#boundingBox=shapely.affinity.rotate(boundingBox,360-suitable_area.iloc[0]['Aspect'],origin=roofCentre)"
   ]
  },
  {
   "cell_type": "code",
   "execution_count": null,
   "metadata": {},
   "outputs": [],
   "source": [
    "#Panel creation\n",
    "xs,ys=_boundingBox.exterior.xy\n",
    "startX=xs[0]\n",
    "startY=ys[0]\n",
    "panelW=0.8\n",
    "panelH=1.2\n",
    "_panel=Polygon([(startX,startY),(startX,startY+panelH),(startX+panelW,startY+panelH),(startX+panelW,startY)])\n",
    "panel=shapely.affinity.rotate(_panel,360-suitable_area.iloc[0]['Aspect'],origin=roofCenter)"
   ]
  },
  {
   "cell_type": "code",
   "execution_count": null,
   "metadata": {},
   "outputs": [],
   "source": [
    "gpd.GeoSeries([panel,rotatedRoof]).plot(cmap='tab10')"
   ]
  },
  {
   "cell_type": "code",
   "execution_count": null,
   "metadata": {},
   "outputs": [],
   "source": []
  },
  {
   "cell_type": "code",
   "execution_count": null,
   "metadata": {},
   "outputs": [],
   "source": [
    "centroid=geo.to_crs(epsg='4326').centroid\n",
    "centroid"
   ]
  },
  {
   "cell_type": "code",
   "execution_count": null,
   "metadata": {
    "tags": [
     "outputPrepend"
    ]
   },
   "outputs": [],
   "source": [
    "import json\n",
    "#Select a roof\n",
    "a=json.loads(suitable_area.to_crs(epsg='4326').to_json())\n",
    "tetto={'type':'FeatureCollection'}\n",
    "tetto['features']=[a['features'][0]]\n",
    "\n",
    "#Bounding box to json\n",
    "temp=gpd.GeoSeries([boundingBox])\n",
    "temp.crs={'init':'epsg:3003'}\n",
    "\n",
    "#Panel to json\n",
    "temp2=gpd.GeoSeries([panel])\n",
    "temp2.crs={'init':'epsg:3003'}\n",
    "panel=json.loads(temp2.to_crs(epsg='4326').to_json())\n",
    "#print(json.dumps(tetto,indent=4))\n",
    "\n",
    "#print(a.keys())\n",
    "#print(tetto.keys())\n",
    "#print(a['type'])\n",
    "#print(a['features'][0])\n",
    "#print(b['features'])"
   ]
  },
  {
   "cell_type": "code",
   "execution_count": null,
   "metadata": {
    "tags": [
     "outputPrepend",
     "outputPrepend",
     "outputPrepend",
     "outputPrepend",
     "outputPrepend",
     "outputPrepend",
     "outputPrepend",
     "outputPrepend",
     "outputPrepend",
     "outputPrepend",
     "outputPrepend",
     "outputPrepend",
     "outputPrepend",
     "outputPrepend",
     "outputPrepend",
     "outputPrepend",
     "outputPrepend",
     "outputPrepend",
     "outputPrepend",
     "outputPrepend",
     "outputPrepend",
     "outputPrepend",
     "outputPrepend",
     "outputPrepend",
     "outputPrepend",
     "outputPrepend",
     "outputPrepend",
     "outputPrepend",
     "outputPrepend",
     "outputPrepend",
     "outputPrepend",
     "outputPrepend",
     "outputPrepend",
     "outputPrepend",
     "outputPrepend",
     "outputPrepend",
     "outputPrepend",
     "outputPrepend",
     "outputPrepend",
     "outputPrepend",
     "outputPrepend",
     "outputPrepend",
     "outputPrepend",
     "outputPrepend",
     "outputPrepend",
     "outputPrepend",
     "outputPrepend",
     "outputPrepend",
     "outputPrepend",
     "outputPrepend",
     "outputPrepend",
     "outputPrepend",
     "outputPrepend",
     "outputPrepend",
     "outputPrepend",
     "outputPrepend",
     "outputPrepend",
     "outputPrepend",
     "outputPrepend",
     "outputPrepend",
     "outputPrepend",
     "outputPrepend",
     "outputPrepend",
     "outputPrepend",
     "outputPrepend",
     "outputPrepend",
     "outputPrepend",
     "outputPrepend",
     "outputPrepend",
     "outputPrepend",
     "outputPrepend",
     "outputPrepend",
     "outputPrepend",
     "outputPrepend",
     "outputPrepend",
     "outputPrepend",
     "outputPrepend",
     "outputPrepend",
     "outputPrepend",
     "outputPrepend",
     "outputPrepend",
     "outputPrepend",
     "outputPrepend",
     "outputPrepend",
     "outputPrepend",
     "outputPrepend",
     "outputPrepend",
     "outputPrepend",
     "outputPrepend",
     "outputPrepend",
     "outputPrepend",
     "outputPrepend",
     "outputPrepend",
     "outputPrepend",
     "outputPrepend",
     "outputPrepend",
     "outputPrepend",
     "outputPrepend",
     "outputPrepend",
     "outputPrepend",
     "outputPrepend",
     "outputPrepend",
     "outputPrepend",
     "outputPrepend",
     "outputPrepend",
     "outputPrepend",
     "outputPrepend",
     "outputPrepend",
     "outputPrepend",
     "outputPrepend",
     "outputPrepend",
     "outputPrepend",
     "outputPrepend",
     "outputPrepend",
     "outputPrepend",
     "outputPrepend",
     "outputPrepend",
     "outputPrepend",
     "outputPrepend",
     "outputPrepend",
     "outputPrepend",
     "outputPrepend",
     "outputPrepend",
     "outputPrepend",
     "outputPrepend",
     "outputPrepend",
     "outputPrepend",
     "outputPrepend",
     "outputPrepend",
     "outputPrepend",
     "outputPrepend",
     "outputPrepend",
     "outputPrepend",
     "outputPrepend",
     "outputPrepend",
     "outputPrepend",
     "outputPrepend",
     "outputPrepend",
     "outputPrepend",
     "outputPrepend",
     "outputPrepend",
     "outputPrepend",
     "outputPrepend",
     "outputPrepend",
     "outputPrepend",
     "outputPrepend",
     "outputPrepend",
     "outputPrepend",
     "outputPrepend",
     "outputPrepend",
     "outputPrepend",
     "outputPrepend",
     "outputPrepend",
     "outputPrepend",
     "outputPrepend",
     "outputPrepend",
     "outputPrepend",
     "outputPrepend",
     "outputPrepend",
     "outputPrepend",
     "outputPrepend",
     "outputPrepend",
     "outputPrepend",
     "outputPrepend",
     "outputPrepend",
     "outputPrepend",
     "outputPrepend",
     "outputPrepend",
     "outputPrepend",
     "outputPrepend",
     "outputPrepend",
     "outputPrepend",
     "outputPrepend",
     "outputPrepend",
     "outputPrepend",
     "outputPrepend",
     "outputPrepend",
     "outputPrepend",
     "outputPrepend",
     "outputPrepend",
     "outputPrepend",
     "outputPrepend",
     "outputPrepend",
     "outputPrepend",
     "outputPrepend",
     "outputPrepend",
     "outputPrepend",
     "outputPrepend",
     "outputPrepend",
     "outputPrepend",
     "outputPrepend",
     "outputPrepend",
     "outputPrepend",
     "outputPrepend",
     "outputPrepend",
     "outputPrepend",
     "outputPrepend",
     "outputPrepend",
     "outputPrepend",
     "outputPrepend",
     "outputPrepend",
     "outputPrepend",
     "outputPrepend",
     "outputPrepend",
     "outputPrepend",
     "outputPrepend",
     "outputPrepend",
     "outputPrepend",
     "outputPrepend",
     "outputPrepend",
     "outputPrepend",
     "outputPrepend",
     "outputPrepend",
     "outputPrepend",
     "outputPrepend",
     "outputPrepend",
     "outputPrepend",
     "outputPrepend",
     "outputPrepend",
     "outputPrepend",
     "outputPrepend",
     "outputPrepend",
     "outputPrepend",
     "outputPrepend",
     "outputPrepend",
     "outputPrepend",
     "outputPrepend",
     "outputPrepend",
     "outputPrepend",
     "outputPrepend",
     "outputPrepend",
     "outputPrepend",
     "outputPrepend",
     "outputPrepend",
     "outputPrepend",
     "outputPrepend",
     "outputPrepend"
    ]
   },
   "outputs": [],
   "source": [
    "import folium\n",
    "m = folium.Map([centroid.y, centroid.x],crs='EPSG4326', zoom_start=15, tiles=\"OpenStreetMap\")\n",
    "folium.GeoJson(a,name='suitable_area').add_to(m)\n",
    "folium.GeoJson(tetto,name='roof1').add_to(m)\n",
    "folium.GeoJson(panel,name='panel').add_to(m)\n",
    "folium.raster_layers.WmsTileLayer(\n",
    "    url='http://niger3.csi.it/mapproxy/service',\n",
    "    name='ortofoto',\n",
    "    fmt='image/png',\n",
    "    layers='regp_agea_2015',\n",
    "    transparent=True,\n",
    "    overlay=True,\n",
    "    control=True,\n",
    ").add_to(m)\n",
    "\n",
    "folium.LayerControl().add_to(m)\n",
    "m"
   ]
  },
  {
   "cell_type": "code",
   "execution_count": null,
   "metadata": {},
   "outputs": [],
   "source": [
    "index=0\n",
    "roof=suitable_area.iloc[index]['geometry']\n",
    "def detectAvailableSurface(roof,IndexError):\n",
    "    roofCenter=roof.centroid\n",
    "    rotatedRoof=shapely.affinity.rotate(roof,suitable_area.iloc[index]['Aspect'],origin=roofCenter)\n",
    "    _boundingBox=rotatedRoof.envelope\n",
    "    boundingBox=shapely.affinity.rotate(_boundingBox,360-suitable_area.iloc[index]['Aspect'],origin=roofCenter)\n",
    "    xs,ys=_boundingBox.exterior.xy\n",
    "\n",
    "    startX=xs[0]\n",
    "    startY=ys[0]\n",
    "    endX=xs[1]\n",
    "    endY=ys[2]\n",
    "\n",
    "    panelW=0.8\n",
    "    panelH=1.2\n",
    "    actualX=startX\n",
    "    actualY=startY\n",
    "    availablePositions=gpd.GeoDataFrame()\n",
    "    dx=0.5\n",
    "    dy=0.5\n",
    "    panels=[]\n",
    "    while actualX+panelW<endX:\n",
    "        while actualY+panelH<endY:\n",
    "            _panel=Polygon([(actualX,actualY),(actualX,actualY+panelH),(actualX+panelW,actualY+panelH),(actualX+panelW,actualY)])\n",
    "            panel=shapely.affinity.rotate(_panel,360-suitable_area.iloc[index]['Aspect'],origin=roofCenter)\n",
    "            if panel.within(roof):\n",
    "                panels.append(panel)\n",
    "            actualY+=dy\n",
    "        actualX+=dx\n",
    "        actualY=startY\n",
    "    return panels\n",
    "\n",
    "panels=detectAvailableSurface(roof,index)\n",
    "\n"
   ]
  },
  {
   "cell_type": "code",
   "execution_count": null,
   "metadata": {
    "tags": [
     "outputPrepend",
     "outputPrepend"
    ]
   },
   "outputs": [],
   "source": [
    "panelsList=gpd.GeoSeries([p for p in panels])\n",
    "panelsSeries=gpd.GeoSeries([panels[0]])\n",
    "for p in panels:\n",
    "    panelsSeries=gpd.GeoSeries.union(panelsSeries,gpd.GeoSeries([p]))\n",
    "print(panelsList)\n",
    "print(panelsSeries)"
   ]
  },
  {
   "cell_type": "code",
   "execution_count": null,
   "metadata": {},
   "outputs": [],
   "source": [
    "panelsSeries.plot(cmap='hsv')\n",
    "panelsList.plot(cmap='hsv')\n"
   ]
  },
  {
   "cell_type": "code",
   "execution_count": null,
   "metadata": {},
   "outputs": [],
   "source": [
    "\n",
    "#Bounding box to json\n",
    "temp=gpd.GeoSeries([roof])\n",
    "temp.crs={'init':'epsg:3003'}\n",
    "roofJson=json.loads(temp.to_crs(epsg='4326').to_json())\n",
    "#Panels to json\n",
    "panelsSeries.crs={'init':'epsg:3003'}\n",
    "panelsJson=json.loads(panelsSeries.to_crs(epsg='4326').to_json())"
   ]
  },
  {
   "cell_type": "code",
   "execution_count": null,
   "metadata": {},
   "outputs": [],
   "source": [
    "def style_function(feature):\n",
    "    return {\n",
    "        'fillOpacity': 0.3,\n",
    "        'weight': 1,\n",
    "        'color':'red'\n",
    "    }\n"
   ]
  },
  {
   "cell_type": "code",
   "execution_count": null,
   "metadata": {},
   "outputs": [],
   "source": [
    "import folium\n",
    "m = folium.Map([centroid.y, centroid.x],crs='EPSG4326', zoom_start=15, tiles=\"OpenStreetMap\")\n",
    "folium.GeoJson(suitable_area.to_crs(epsg='4326').to_json(),name='suitable_area').add_to(m)\n",
    "folium.GeoJson(roofJson,name='roof').add_to(m)\n",
    "folium.GeoJson(panelsJson,name='panel',style_function=style_function).add_to(m)\n",
    "folium.raster_layers.WmsTileLayer(\n",
    "    url='http://niger3.csi.it/mapproxy/service',\n",
    "    name='ortofoto',\n",
    "    fmt='image/png',\n",
    "    layers='regp_agea_2015',\n",
    "    transparent=True,\n",
    "    overlay=True,\n",
    "    control=True,\n",
    ").add_to(m)\n",
    "\n",
    "folium.LayerControl().add_to(m)\n",
    "m"
   ]
  },
  {
   "cell_type": "code",
   "execution_count": null,
   "metadata": {
    "tags": [
     "outputPrepend",
     "outputPrepend",
     "outputPrepend",
     "outputPrepend",
     "outputPrepend",
     "outputPrepend",
     "outputPrepend",
     "outputPrepend",
     "outputPrepend",
     "outputPrepend",
     "outputPrepend",
     "outputPrepend",
     "outputPrepend",
     "outputPrepend",
     "outputPrepend",
     "outputPrepend",
     "outputPrepend",
     "outputPrepend",
     "outputPrepend",
     "outputPrepend",
     "outputPrepend",
     "outputPrepend",
     "outputPrepend",
     "outputPrepend",
     "outputPrepend",
     "outputPrepend",
     "outputPrepend",
     "outputPrepend",
     "outputPrepend",
     "outputPrepend",
     "outputPrepend",
     "outputPrepend",
     "outputPrepend",
     "outputPrepend",
     "outputPrepend",
     "outputPrepend",
     "outputPrepend",
     "outputPrepend",
     "outputPrepend",
     "outputPrepend",
     "outputPrepend",
     "outputPrepend",
     "outputPrepend",
     "outputPrepend",
     "outputPrepend",
     "outputPrepend",
     "outputPrepend",
     "outputPrepend",
     "outputPrepend",
     "outputPrepend",
     "outputPrepend",
     "outputPrepend",
     "outputPrepend",
     "outputPrepend",
     "outputPrepend",
     "outputPrepend",
     "outputPrepend",
     "outputPrepend",
     "outputPrepend",
     "outputPrepend",
     "outputPrepend",
     "outputPrepend",
     "outputPrepend",
     "outputPrepend",
     "outputPrepend",
     "outputPrepend",
     "outputPrepend",
     "outputPrepend",
     "outputPrepend",
     "outputPrepend",
     "outputPrepend",
     "outputPrepend",
     "outputPrepend",
     "outputPrepend",
     "outputPrepend",
     "outputPrepend",
     "outputPrepend",
     "outputPrepend",
     "outputPrepend",
     "outputPrepend",
     "outputPrepend",
     "outputPrepend",
     "outputPrepend",
     "outputPrepend",
     "outputPrepend",
     "outputPrepend",
     "outputPrepend",
     "outputPrepend",
     "outputPrepend",
     "outputPrepend",
     "outputPrepend",
     "outputPrepend",
     "outputPrepend",
     "outputPrepend",
     "outputPrepend",
     "outputPrepend",
     "outputPrepend",
     "outputPrepend",
     "outputPrepend",
     "outputPrepend",
     "outputPrepend",
     "outputPrepend",
     "outputPrepend",
     "outputPrepend",
     "outputPrepend",
     "outputPrepend",
     "outputPrepend",
     "outputPrepend",
     "outputPrepend",
     "outputPrepend",
     "outputPrepend",
     "outputPrepend",
     "outputPrepend",
     "outputPrepend",
     "outputPrepend",
     "outputPrepend",
     "outputPrepend",
     "outputPrepend",
     "outputPrepend",
     "outputPrepend",
     "outputPrepend",
     "outputPrepend",
     "outputPrepend",
     "outputPrepend",
     "outputPrepend",
     "outputPrepend",
     "outputPrepend",
     "outputPrepend",
     "outputPrepend",
     "outputPrepend",
     "outputPrepend",
     "outputPrepend",
     "outputPrepend",
     "outputPrepend",
     "outputPrepend",
     "outputPrepend",
     "outputPrepend",
     "outputPrepend",
     "outputPrepend",
     "outputPrepend",
     "outputPrepend",
     "outputPrepend",
     "outputPrepend",
     "outputPrepend",
     "outputPrepend",
     "outputPrepend",
     "outputPrepend",
     "outputPrepend",
     "outputPrepend",
     "outputPrepend",
     "outputPrepend",
     "outputPrepend",
     "outputPrepend",
     "outputPrepend",
     "outputPrepend",
     "outputPrepend",
     "outputPrepend",
     "outputPrepend",
     "outputPrepend",
     "outputPrepend",
     "outputPrepend",
     "outputPrepend",
     "outputPrepend",
     "outputPrepend",
     "outputPrepend",
     "outputPrepend",
     "outputPrepend",
     "outputPrepend",
     "outputPrepend",
     "outputPrepend",
     "outputPrepend",
     "outputPrepend",
     "outputPrepend"
    ]
   },
   "outputs": [],
   "source": [
    "#All the roofs\n",
    "sansaRoofs=[]\n",
    "print(suitable_area.shape)\n",
    "for index,roof in suitable_area.iterrows():\n",
    "    splittedRoof=detectAvailableSurface(roof['geometry'],index)\n",
    "    if len(splittedRoof)!=0:\n",
    "        unifiedRoof=gpd.GeoSeries([splittedRoof[0]])\n",
    "        for split in splittedRoof:\n",
    "            unifiedRoof=gpd.GeoSeries.union(unifiedRoof,gpd.GeoSeries([split]))\n",
    "        sansaRoofs.append(unifiedRoof)\n",
    "        print(index)\n",
    "    \n"
   ]
  },
  {
   "cell_type": "code",
   "execution_count": null,
   "metadata": {},
   "outputs": [],
   "source": [
    "type(sansaRoofs[0])\n"
   ]
  },
  {
   "cell_type": "code",
   "execution_count": null,
   "metadata": {},
   "outputs": [],
   "source": []
  },
  {
   "cell_type": "code",
   "execution_count": null,
   "metadata": {},
   "outputs": [],
   "source": [
    "#print(len(sansaList))\n",
    "sansaDataFrame=gpd.GeoSeries()\n",
    "sansaDataFrame.set_geometry([x for x in sansaRoofs])\n",
    "\n",
    "print(sansaDataFrame)\n"
   ]
  },
  {
   "cell_type": "code",
   "execution_count": null,
   "metadata": {},
   "outputs": [],
   "source": [
    "sansaRoofs[0].crs={'init':'epsg:3003'}\n",
    "sansaJson=json.loads(sansaRoofs[0].to_crs(epsg='4326').to_json())\n",
    "sansaJson"
   ]
  },
  {
   "cell_type": "code",
   "execution_count": null,
   "metadata": {},
   "outputs": [],
   "source": [
    "import folium\n",
    "m = folium.Map([centroid.y, centroid.x],crs='EPSG4326', zoom_start=15, tiles=\"OpenStreetMap\")\n",
    "folium.GeoJson(suitable_area.to_crs(epsg='4326').to_json(),name='suitable_area').add_to(m)\n",
    "folium.GeoJson(roofJson,name='roof').add_to(m)\n",
    "sansaAvailable={'type': 'FeatureCollection',\n",
    " 'features': []}\n",
    "for x in sansaRoofs:\n",
    "    x.crs={'init':'epsg:3003'}\n",
    "    tettoJson=json.loads(x.to_crs(epsg='4326').to_json())\n",
    "    sansaAvailable['features'].append(tettoJson['features'][0])\n",
    "    folium.GeoJson(tettoJson,name='panel',style_function=style_function).add_to(m)\n",
    "folium.LayerControl().add_to(m)\n"
   ]
  },
  {
   "cell_type": "code",
   "execution_count": null,
   "metadata": {},
   "outputs": [],
   "source": [
    "with open('data/sansaAvailable.json','w') as fp:\n",
    "    json.dump(sansaAvailable,fp)"
   ]
  },
  {
   "cell_type": "code",
   "execution_count": null,
   "metadata": {},
   "outputs": [],
   "source": [
    "m"
   ]
  },
  {
   "cell_type": "code",
   "execution_count": null,
   "metadata": {},
   "outputs": [],
   "source": []
  }
 ],
 "metadata": {
  "kernelspec": {
   "display_name": "gisenv",
   "language": "python",
   "name": "gisenv"
  },
  "language_info": {
   "codemirror_mode": {
    "name": "ipython",
    "version": 3
   },
   "file_extension": ".py",
   "mimetype": "text/x-python",
   "name": "python",
   "nbconvert_exporter": "python",
   "pygments_lexer": "ipython3",
   "version": "3.7.7"
  }
 },
 "nbformat": 4,
 "nbformat_minor": 4
}